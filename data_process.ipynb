{
 "cells": [
  {
   "cell_type": "code",
   "execution_count": 2,
   "id": "9d12ccc6-842a-4c51-bcc9-c063c04d39de",
   "metadata": {},
   "outputs": [],
   "source": [
    "import h5py\n",
    "import numpy as np\n",
    "import matplotlib.pyplot as plt\n",
    "\n",
    "import torch\n",
    "import torchvision.transforms as transforms"
   ]
  },
  {
   "cell_type": "code",
   "execution_count": 20,
   "id": "385798db-22ec-4299-8c19-2f115d42eb58",
   "metadata": {},
   "outputs": [
    {
     "data": {
      "text/plain": [
       "<KeysViewHDF5 ['Greens', 'anderson', 'chebyshev']>"
      ]
     },
     "execution_count": 20,
     "metadata": {},
     "output_type": "execute_result"
    }
   ],
   "source": [
    "origin_file = 'datasets/L6N255_4000.h5'\n",
    "o_h5 = h5py.File(origin_file, 'r')\n",
    "o_h5.keys()"
   ]
  },
  {
   "cell_type": "code",
   "execution_count": 22,
   "id": "8edc7faf-d874-4355-92f9-38da3a25b24a",
   "metadata": {},
   "outputs": [
    {
     "data": {
      "text/plain": [
       "(array([ 6.96469186,  0.2065269 ,  1.63142385,  4.40297536, -4.13522458,\n",
       "         0.86176524,  1.3410227 ,  0.41840878]),\n",
       " array(0.0129169))"
      ]
     },
     "execution_count": 22,
     "metadata": {},
     "output_type": "execute_result"
    }
   ],
   "source": [
    "np.array(o_h5['anderson'][0]).flatten(), np.array(o_h5['chebyshev'][0,0,0,0])"
   ]
  },
  {
   "cell_type": "code",
   "execution_count": 3,
   "id": "e0fc4763-3f55-45af-a64e-3fbd48ecea6d",
   "metadata": {},
   "outputs": [
    {
     "data": {
      "text/plain": [
       "(array([ 6.96469186,  0.2065269 ,  1.63142385,  4.40297536, -4.13522458,\n",
       "         0.86176524,  1.3410227 ,  0.41840878]),\n",
       " array(1.00447011))"
      ]
     },
     "execution_count": 3,
     "metadata": {},
     "output_type": "execute_result"
    }
   ],
   "source": [
    "c_train_file = 'datasets/chebyshev_0_4000.h5'\n",
    "c_train_h5 = h5py.File(c_train_file, 'r')\n",
    "np.array(c_train_h5['anderson'][0]).flatten(), np.array(c_train_h5['chebyshev'][0,0,0,0])"
   ]
  },
  {
   "cell_type": "code",
   "execution_count": 4,
   "id": "d17e2875-0063-47fd-bbfe-b29eb66ba304",
   "metadata": {},
   "outputs": [
    {
     "data": {
      "text/plain": [
       "(array([ 1.58997351,  2.27941756, -0.05643762, -2.71328907, -0.98162041,\n",
       "         0.82658971,  0.85817836,  0.56812304]),\n",
       " array(0.99585183))"
      ]
     },
     "execution_count": 4,
     "metadata": {},
     "output_type": "execute_result"
    }
   ],
   "source": [
    "c_test_file = 'datasets/chebyshev_testing_1000.h5'\n",
    "c_test_h5 = h5py.File(c_test_file, 'r')\n",
    "np.array(c_test_h5['anderson'][0]).flatten(), np.array(c_test_h5['chebyshev'][0,0,0,0])"
   ]
  },
  {
   "cell_type": "code",
   "execution_count": 11,
   "id": "f5aba519-efbf-4697-954e-a0d010b74115",
   "metadata": {},
   "outputs": [
    {
     "data": {
      "text/plain": [
       "(4000, 256, 1, 1)"
      ]
     },
     "execution_count": 11,
     "metadata": {},
     "output_type": "execute_result"
    }
   ],
   "source": [
    "o_h5['chebyshev'].shape"
   ]
  },
  {
   "cell_type": "code",
   "execution_count": 12,
   "id": "707f2127-c723-4b71-aabd-4f5ba70eb482",
   "metadata": {},
   "outputs": [
    {
     "data": {
      "text/plain": [
       "(256, 1, 1)"
      ]
     },
     "execution_count": 12,
     "metadata": {},
     "output_type": "execute_result"
    }
   ],
   "source": [
    "c_np = np.array(o_h5['chebyshev'])\n",
    "np.median(np.abs(c_np), axis = 0).shape"
   ]
  },
  {
   "cell_type": "code",
   "execution_count": 23,
   "id": "866ae221-899e-4a50-ac2a-e2830789c8a4",
   "metadata": {},
   "outputs": [],
   "source": [
    "cheby_0 = np.median(np.abs(c_np[:, 0, 0, 0]), axis=0)"
   ]
  },
  {
   "cell_type": "code",
   "execution_count": 18,
   "id": "778795b9-990a-412c-8813-d0856612a875",
   "metadata": {},
   "outputs": [
    {
     "data": {
      "text/plain": [
       "array([[0.01285941]])"
      ]
     },
     "execution_count": 18,
     "metadata": {},
     "output_type": "execute_result"
    }
   ],
   "source": [
    "np.median(np.abs(c_np), axis = 0)[0]"
   ]
  },
  {
   "cell_type": "code",
   "execution_count": 19,
   "id": "da84ecdc-a793-4438-aaed-94a21b043fc8",
   "metadata": {},
   "outputs": [],
   "source": [
    "chebyshev_median='chebyshev_median.h5'\n",
    "c_h5 = h5py.File(chebyshev_median, 'w')\n",
    "c_h5.create_dataset(name='chebyshev_median', data=np.median(np.abs(c_np), axis = 0))\n",
    "c_h5.close()\n",
    "o_h5.close()"
   ]
  },
  {
   "cell_type": "markdown",
   "id": "34808a6c-36e2-4994-8b30-a3037935b656",
   "metadata": {},
   "source": [
    "# 使用median的数据集"
   ]
  },
  {
   "cell_type": "code",
   "execution_count": 33,
   "id": "74492f6f-aa30-4ca6-8810-7237d0aa7d33",
   "metadata": {},
   "outputs": [
    {
     "name": "stdout",
     "output_type": "stream",
     "text": [
      "[ 1.58997351  2.27941756 -0.05643762 -2.71328907 -0.98162041  0.82658971\n",
      "  0.85817836  0.56812304] 0.0128060717275892\n",
      "(1000, 1, 1)\n"
     ]
    }
   ],
   "source": [
    "test_file = 'datasets/L6N255_testing_1000.h5'\n",
    "test_h5 = h5py.File(test_file, 'r')\n",
    "\n",
    "chebyshev_median='chebyshev_median.h5'\n",
    "c_h5 = h5py.File(chebyshev_median, 'r')\n",
    "median_test = test_h5['chebyshev'][:] / c_h5['chebyshev_median'][:]\n",
    "\n",
    "save_name = 'chebyshev_testing_1000.h5'\n",
    "save_h5 = h5py.File(savename, 'w')\n",
    "\n",
    "save_h5.create_dataset(name='chebyshev', data=median_test, dtype='float64')\n",
    "save_h5.create_dataset(name='anderson', data=test_h5['anderson'][:])\n",
    "\n",
    "save_h5.close()\n",
    "test_h5.close()\n",
    "c_h5.close()"
   ]
  },
  {
   "cell_type": "code",
   "execution_count": 40,
   "id": "604a03cb-1406-4d35-9bde-88473a792476",
   "metadata": {},
   "outputs": [
    {
     "data": {
      "text/plain": [
       "((1000, 256, 1, 1),\n",
       " array([ 0.99585183,  1.79472122, -1.01327828, -1.94266417,  1.06519988,\n",
       "         2.36347458, -1.15787729, -3.4030798 ,  1.3004036 ,  4.65702547]),\n",
       " array([ 0.01280607,  0.00191139, -0.02390714, -0.00525751,  0.02124216,\n",
       "         0.00791201, -0.01789589, -0.00975457,  0.01417141,  0.01076039]),\n",
       " array([0.01285941, 0.00106501, 0.02359385, 0.00270634, 0.01994194,\n",
       "        0.00334762, 0.01545577, 0.00286639, 0.0108977 , 0.00231057]))"
      ]
     },
     "execution_count": 40,
     "metadata": {},
     "output_type": "execute_result"
    }
   ],
   "source": [
    "\n",
    "test_file = 'datasets/L6N255_testing_1000.h5'\n",
    "test_h5 = h5py.File(test_file, 'r')\n",
    "\n",
    "\n",
    "median_test.shape, median_test[0,:10, 0, 0], test_h5['chebyshev'][0,:10, 0, 0],  c_h5['chebyshev_median'][:10].flatten()"
   ]
  },
  {
   "cell_type": "code",
   "execution_count": 41,
   "id": "d1fdff15-1ed6-4a5e-9d4c-97f0acc8f124",
   "metadata": {},
   "outputs": [
    {
     "data": {
      "text/plain": [
       "4.6521739130434785"
      ]
     },
     "execution_count": 41,
     "metadata": {},
     "output_type": "execute_result"
    }
   ],
   "source": [
    "0.0107/0.0023"
   ]
  },
  {
   "cell_type": "markdown",
   "id": "f8300400-28ca-4f1b-82d6-f79d3329e932",
   "metadata": {},
   "source": [
    "# 准备test 5 的数据集\n",
    "anderson： norm\n",
    "\n",
    "chebyshev： median"
   ]
  },
  {
   "cell_type": "code",
   "execution_count": 10,
   "id": "53eddada-ea71-4c07-926e-62b5b1ec0c8c",
   "metadata": {},
   "outputs": [],
   "source": [
    "# generate nom_meta\n",
    "if 1:\n",
    "    train_origin = 'datasets/L6N255_10000.h5'\n",
    "    \n",
    "    h5_origin = h5py.File(train_origin, 'r')\n",
    "    anderson = torch.Tensor(h5_origin['anderson'][:])\n",
    "    file_mean = 'datasets/10000_norm_meta.h5'\n",
    "    h5_mean = h5py.File(file_mean, 'w')\n",
    "    \n",
    "    mean = torch.mean(anderson, dim=0)\n",
    "    std = torch.std(anderson, dim=0)\n",
    "    h5_mean.create_dataset(name='mean',data=mean, dtype='float64')\n",
    "    h5_mean.create_dataset(name='std',data=std, dtype='float64')\n",
    "    h5_mean.keys()\n",
    "    h5_mean.close()"
   ]
  },
  {
   "cell_type": "code",
   "execution_count": 13,
   "id": "bfdd6bf2-78e9-47f4-a65b-5b53375fcbeb",
   "metadata": {},
   "outputs": [
    {
     "data": {
      "text/plain": [
       "(torch.Size([8, 1, 1]),\n",
       " tensor([ 4.9823,  0.0073, -0.0058,  0.0429,  0.0430,  0.7434,  0.7557,  0.7468]))"
      ]
     },
     "execution_count": 13,
     "metadata": {},
     "output_type": "execute_result"
    }
   ],
   "source": [
    "mean.shape, mean.flatten()"
   ]
  },
  {
   "cell_type": "code",
   "execution_count": 14,
   "id": "319314e4-5ea8-4160-9287-1ddcac00748c",
   "metadata": {},
   "outputs": [],
   "source": [
    "# read\n",
    "file_mean = 'datasets/10000_norm_meta.h5'\n",
    "h5_mean = h5py.File(file_mean, 'r')\n",
    "mean, std = h5_mean['mean'][:], h5_mean['std'][:]\n",
    "h5_mean.close()"
   ]
  },
  {
   "cell_type": "code",
   "execution_count": 15,
   "id": "b76a4c63-023b-4c28-bff5-cc48f0e2d142",
   "metadata": {},
   "outputs": [
    {
     "data": {
      "text/plain": [
       "((8, 1, 1),\n",
       " array([ 4.98231173,  0.00727328, -0.00577093,  0.04291348,  0.04299883,\n",
       "         0.74337214,  0.75566906,  0.74676955]))"
      ]
     },
     "execution_count": 15,
     "metadata": {},
     "output_type": "execute_result"
    }
   ],
   "source": [
    "mean.shape, mean.flatten()"
   ]
  },
  {
   "cell_type": "code",
   "execution_count": 16,
   "id": "09e01188-5eaa-4fb1-af80-c307bab27a04",
   "metadata": {},
   "outputs": [],
   "source": [
    "chebyshev_median='datasets/chebyshev_median.h5'\n",
    "c_h5 = h5py.File(chebyshev_median, 'r')"
   ]
  },
  {
   "cell_type": "code",
   "execution_count": 17,
   "id": "821add53-9473-4980-be46-2407c513a096",
   "metadata": {},
   "outputs": [],
   "source": [
    "# test5 需要的数据查看 \n",
    "train_origin = 'datasets/L6N255_10000.h5'\n",
    "file_train = 'datasets/norm_10000.h5'\n",
    "\n",
    "h5_origin = h5py.File(train_origin, 'r')\n",
    "anderson = torch.Tensor(h5_origin['anderson'][:])\n",
    "norm_anderson = transforms.Normalize(mean, std)(anderson)\n",
    "chebyshev = torch.Tensor(h5_origin['chebyshev'][:])\n",
    "median_chebyshev = chebyshev / c_h5['chebyshev_median'][:]\n",
    "\n",
    "h5_train = h5py.File(file_train, 'w')\n",
    "h5_train.create_dataset(name='anderson', data=norm_anderson,dtype='float64')\n",
    "h5_train.create_dataset(name='chebyshev', data=median_chebyshev, dtype='float64')\n",
    "h5_train.close()"
   ]
  },
  {
   "cell_type": "code",
   "execution_count": 23,
   "id": "2c51ee6f-46a3-4074-92ab-386705013c3e",
   "metadata": {},
   "outputs": [],
   "source": [
    "# test5 需要的数据查看 \n",
    "test_origin = 'datasets/L6N255_testing_1000.h5'\n",
    "file_test = 'datasets/norm_test_1000.h5'\n",
    "\n",
    "h5_origin = h5py.File(test_origin, 'r')\n",
    "anderson = torch.Tensor(h5_origin['anderson'][:])\n",
    "norm_anderson = transforms.Normalize(mean, std)(anderson)\n",
    "chebyshev = torch.Tensor(h5_origin['chebyshev'][:])\n",
    "median_chebyshev = chebyshev / c_h5['chebyshev_median'][:]\n",
    "\n",
    "h5_test = h5py.File(file_test, 'w')\n",
    "h5_test.create_dataset(name='anderson', data=norm_anderson,dtype='float64')\n",
    "h5_test.create_dataset(name='chebyshev', data=median_chebyshev, dtype='float64')\n",
    "h5_test.close()"
   ]
  },
  {
   "cell_type": "code",
   "execution_count": null,
   "id": "b0f90fb7-5bfa-4247-85ab-263685def1ec",
   "metadata": {},
   "outputs": [],
   "source": [
    "# 规范化是否合理\n",
    "plt.plot(norm_anderson[:10,0,0,0])\n",
    "plt.plot(anderson[:10,0,0,0])"
   ]
  },
  {
   "cell_type": "code",
   "execution_count": 29,
   "id": "56d76b78-3d39-497d-ac29-20c80b6bab09",
   "metadata": {},
   "outputs": [
    {
     "data": {
      "text/plain": [
       "(array([-1.17670524,  1.57700872, -0.01769103, -0.95797795, -0.35424122,\n",
       "         0.19169877,  0.23645437, -0.41081271]),\n",
       " array([ 0.99585184,  1.79472123, -1.01327824, -1.94266424,  1.06519986,\n",
       "         2.36347455, -1.15787728, -3.40307985,  1.30040356,  4.65702528]),\n",
       " array([ 1.58997351,  2.27941756, -0.05643762, -2.71328907, -0.98162041,\n",
       "         0.82658971,  0.85817836,  0.56812304]),\n",
       " array([ 0.01280607,  0.00191139, -0.02390714, -0.00525751,  0.02124216,\n",
       "         0.00791201, -0.01789589, -0.00975457,  0.01417141,  0.01076039]))"
      ]
     },
     "execution_count": 29,
     "metadata": {},
     "output_type": "execute_result"
    }
   ],
   "source": [
    "file_1 = 'datasets/norm_test_1000.h5'\n",
    "file_2 = 'datasets/L6N255_testing_1000.h5'\n",
    "h5_1= h5py.File(file_1, 'r')\n",
    "h5_2= h5py.File(file_2, 'r')\n",
    "h5_1['anderson'].shape, h5_1['chebyshev'].shape\n",
    "h5_1['anderson'][0,:,0,0], h5_1['chebyshev'][0,:10,0,0],h5_2['anderson'][0,:,0,0], h5_2['chebyshev'][0,:10,0,0]"
   ]
  },
  {
   "cell_type": "code",
   "execution_count": null,
   "id": "3740dee0-ab7d-47f9-a4a7-d2ce6ce84f57",
   "metadata": {},
   "outputs": [],
   "source": []
  },
  {
   "cell_type": "code",
   "execution_count": null,
   "id": "12a558e7-a3da-4f1e-ab9c-22eda9e65711",
   "metadata": {},
   "outputs": [],
   "source": []
  }
 ],
 "metadata": {
  "kernelspec": {
   "display_name": "Python 3 (ipykernel)",
   "language": "python",
   "name": "python3"
  },
  "language_info": {
   "codemirror_mode": {
    "name": "ipython",
    "version": 3
   },
   "file_extension": ".py",
   "mimetype": "text/x-python",
   "name": "python",
   "nbconvert_exporter": "python",
   "pygments_lexer": "ipython3",
   "version": "3.9.18"
  }
 },
 "nbformat": 4,
 "nbformat_minor": 5
}

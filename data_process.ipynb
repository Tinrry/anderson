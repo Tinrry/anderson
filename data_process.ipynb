{
 "cells": [
  {
   "cell_type": "code",
   "execution_count": 2,
   "id": "9d12ccc6-842a-4c51-bcc9-c063c04d39de",
   "metadata": {},
   "outputs": [],
   "source": [
    "import h5py\n",
    "import numpy as np"
   ]
  },
  {
   "cell_type": "code",
   "execution_count": 20,
   "id": "385798db-22ec-4299-8c19-2f115d42eb58",
   "metadata": {},
   "outputs": [
    {
     "data": {
      "text/plain": [
       "<KeysViewHDF5 ['Greens', 'anderson', 'chebyshev']>"
      ]
     },
     "execution_count": 20,
     "metadata": {},
     "output_type": "execute_result"
    }
   ],
   "source": [
    "origin_file = 'datasets/L6N255_4000.h5'\n",
    "o_h5 = h5py.File(origin_file, 'r')\n",
    "o_h5.keys()"
   ]
  },
  {
   "cell_type": "code",
   "execution_count": 22,
   "id": "8edc7faf-d874-4355-92f9-38da3a25b24a",
   "metadata": {},
   "outputs": [
    {
     "data": {
      "text/plain": [
       "(array([ 6.96469186,  0.2065269 ,  1.63142385,  4.40297536, -4.13522458,\n",
       "         0.86176524,  1.3410227 ,  0.41840878]),\n",
       " array(0.0129169))"
      ]
     },
     "execution_count": 22,
     "metadata": {},
     "output_type": "execute_result"
    }
   ],
   "source": [
    "np.array(o_h5['anderson'][0]).flatten(), np.array(o_h5['chebyshev'][0,0,0,0])"
   ]
  },
  {
   "cell_type": "code",
   "execution_count": 3,
   "id": "e0fc4763-3f55-45af-a64e-3fbd48ecea6d",
   "metadata": {},
   "outputs": [
    {
     "data": {
      "text/plain": [
       "(array([ 6.96469186,  0.2065269 ,  1.63142385,  4.40297536, -4.13522458,\n",
       "         0.86176524,  1.3410227 ,  0.41840878]),\n",
       " array(1.00447011))"
      ]
     },
     "execution_count": 3,
     "metadata": {},
     "output_type": "execute_result"
    }
   ],
   "source": [
    "c_train_file = 'datasets/chebyshev_0_4000.h5'\n",
    "c_train_h5 = h5py.File(c_train_file, 'r')\n",
    "np.array(c_train_h5['anderson'][0]).flatten(), np.array(c_train_h5['chebyshev'][0,0,0,0])"
   ]
  },
  {
   "cell_type": "code",
   "execution_count": 4,
   "id": "d17e2875-0063-47fd-bbfe-b29eb66ba304",
   "metadata": {},
   "outputs": [
    {
     "data": {
      "text/plain": [
       "(array([ 1.58997351,  2.27941756, -0.05643762, -2.71328907, -0.98162041,\n",
       "         0.82658971,  0.85817836,  0.56812304]),\n",
       " array(0.99585183))"
      ]
     },
     "execution_count": 4,
     "metadata": {},
     "output_type": "execute_result"
    }
   ],
   "source": [
    "c_test_file = 'datasets/chebyshev_testing_1000.h5'\n",
    "c_test_h5 = h5py.File(c_test_file, 'r')\n",
    "np.array(c_test_h5['anderson'][0]).flatten(), np.array(c_test_h5['chebyshev'][0,0,0,0])"
   ]
  },
  {
   "cell_type": "code",
   "execution_count": 11,
   "id": "f5aba519-efbf-4697-954e-a0d010b74115",
   "metadata": {},
   "outputs": [
    {
     "data": {
      "text/plain": [
       "(4000, 256, 1, 1)"
      ]
     },
     "execution_count": 11,
     "metadata": {},
     "output_type": "execute_result"
    }
   ],
   "source": [
    "o_h5['chebyshev'].shape"
   ]
  },
  {
   "cell_type": "code",
   "execution_count": 12,
   "id": "707f2127-c723-4b71-aabd-4f5ba70eb482",
   "metadata": {},
   "outputs": [
    {
     "data": {
      "text/plain": [
       "(256, 1, 1)"
      ]
     },
     "execution_count": 12,
     "metadata": {},
     "output_type": "execute_result"
    }
   ],
   "source": [
    "c_np = np.array(o_h5['chebyshev'])\n",
    "np.median(np.abs(c_np), axis = 0).shape"
   ]
  },
  {
   "cell_type": "code",
   "execution_count": 23,
   "id": "866ae221-899e-4a50-ac2a-e2830789c8a4",
   "metadata": {},
   "outputs": [],
   "source": [
    "cheby_0 = np.median(np.abs(c_np[:, 0, 0, 0]), axis=0)"
   ]
  },
  {
   "cell_type": "code",
   "execution_count": 18,
   "id": "778795b9-990a-412c-8813-d0856612a875",
   "metadata": {},
   "outputs": [
    {
     "data": {
      "text/plain": [
       "array([[0.01285941]])"
      ]
     },
     "execution_count": 18,
     "metadata": {},
     "output_type": "execute_result"
    }
   ],
   "source": [
    "np.median(np.abs(c_np), axis = 0)[0]"
   ]
  },
  {
   "cell_type": "code",
   "execution_count": 19,
   "id": "da84ecdc-a793-4438-aaed-94a21b043fc8",
   "metadata": {},
   "outputs": [],
   "source": [
    "chebyshev_median='chebyshev_median.h5'\n",
    "c_h5 = h5py.File(chebyshev_median, 'w')\n",
    "c_h5.create_dataset(name='chebyshev_median', data=np.median(np.abs(c_np), axis = 0))\n",
    "c_h5.close()\n",
    "o_h5.close()"
   ]
  },
  {
   "cell_type": "code",
   "execution_count": 33,
   "id": "74492f6f-aa30-4ca6-8810-7237d0aa7d33",
   "metadata": {},
   "outputs": [
    {
     "name": "stdout",
     "output_type": "stream",
     "text": [
      "[ 1.58997351  2.27941756 -0.05643762 -2.71328907 -0.98162041  0.82658971\n",
      "  0.85817836  0.56812304] 0.0128060717275892\n",
      "(1000, 1, 1)\n"
     ]
    }
   ],
   "source": [
    "test_file = 'datasets/L6N255_testing_1000.h5'\n",
    "test_h5 = h5py.File(test_file, 'r')\n",
    "\n",
    "chebyshev_median='chebyshev_median.h5'\n",
    "c_h5 = h5py.File(chebyshev_median, 'r')\n",
    "median_test = test_h5['chebyshev'][:] / c_h5['chebyshev_median'][:]\n",
    "\n",
    "save_name = 'chebyshev_testing_1000.h5'\n",
    "\n",
    "save_h5 = h5py.File(savename, 'w')\n",
    "t_h5.create_dataset(name='chebyshev', data=median_test, dtype='float64')\n",
    "t_h5.create_dataset(name='anderson', data=test_h5['anderson'][:])\n",
    "test_h5.close()\n",
    "c_h5.close()"
   ]
  },
  {
   "cell_type": "code",
   "execution_count": 40,
   "id": "604a03cb-1406-4d35-9bde-88473a792476",
   "metadata": {},
   "outputs": [
    {
     "data": {
      "text/plain": [
       "((1000, 256, 1, 1),\n",
       " array([ 0.99585183,  1.79472122, -1.01327828, -1.94266417,  1.06519988,\n",
       "         2.36347458, -1.15787729, -3.4030798 ,  1.3004036 ,  4.65702547]),\n",
       " array([ 0.01280607,  0.00191139, -0.02390714, -0.00525751,  0.02124216,\n",
       "         0.00791201, -0.01789589, -0.00975457,  0.01417141,  0.01076039]),\n",
       " array([0.01285941, 0.00106501, 0.02359385, 0.00270634, 0.01994194,\n",
       "        0.00334762, 0.01545577, 0.00286639, 0.0108977 , 0.00231057]))"
      ]
     },
     "execution_count": 40,
     "metadata": {},
     "output_type": "execute_result"
    }
   ],
   "source": [
    "\n",
    "test_file = 'datasets/L6N255_testing_1000.h5'\n",
    "test_h5 = h5py.File(test_file, 'r')\n",
    "\n",
    "\n",
    "median_test.shape, median_test[0,:10, 0, 0], test_h5['chebyshev'][0,:10, 0, 0],  c_h5['chebyshev_median'][:10].flatten()"
   ]
  },
  {
   "cell_type": "code",
   "execution_count": 41,
   "id": "d1fdff15-1ed6-4a5e-9d4c-97f0acc8f124",
   "metadata": {},
   "outputs": [
    {
     "data": {
      "text/plain": [
       "4.6521739130434785"
      ]
     },
     "execution_count": 41,
     "metadata": {},
     "output_type": "execute_result"
    }
   ],
   "source": [
    "0.0107/0.0023"
   ]
  },
  {
   "cell_type": "code",
   "execution_count": null,
   "id": "821add53-9473-4980-be46-2407c513a096",
   "metadata": {},
   "outputs": [],
   "source": []
  }
 ],
 "metadata": {
  "kernelspec": {
   "display_name": "Python 3 (ipykernel)",
   "language": "python",
   "name": "python3"
  },
  "language_info": {
   "codemirror_mode": {
    "name": "ipython",
    "version": 3
   },
   "file_extension": ".py",
   "mimetype": "text/x-python",
   "name": "python",
   "nbconvert_exporter": "python",
   "pygments_lexer": "ipython3",
   "version": "3.9.18"
  }
 },
 "nbformat": 4,
 "nbformat_minor": 5
}

{
 "cells": [
  {
   "cell_type": "code",
   "execution_count": 1,
   "id": "9d12ccc6-842a-4c51-bcc9-c063c04d39de",
   "metadata": {},
   "outputs": [],
   "source": [
    "import h5py\n",
    "import numpy as np\n",
    "import matplotlib.pyplot as plt\n",
    "\n",
    "import torch\n",
    "import torchvision.transforms as transforms"
   ]
  },
  {
   "cell_type": "code",
   "execution_count": 2,
   "id": "385798db-22ec-4299-8c19-2f115d42eb58",
   "metadata": {},
   "outputs": [
    {
     "data": {
      "text/plain": [
       "<KeysViewHDF5 ['Greens', 'anderson', 'chebyshev']>"
      ]
     },
     "execution_count": 2,
     "metadata": {},
     "output_type": "execute_result"
    }
   ],
   "source": [
    "origin_file = 'datasets/L6N255_10000.h5'\n",
    "o_h5 = h5py.File(origin_file, 'r')\n",
    "o_h5.keys()"
   ]
  },
  {
   "cell_type": "code",
   "execution_count": 3,
   "id": "d26c2aa4-a281-4615-ac96-908af14b6ba1",
   "metadata": {},
   "outputs": [
    {
     "name": "stdout",
     "output_type": "stream",
     "text": [
      "<HDF5 dataset \"Greens\": shape (10000, 256, 1, 1), type \"<f8\">\n",
      "<HDF5 dataset \"anderson\": shape (10000, 8, 1, 1), type \"<f8\">\n",
      "<HDF5 dataset \"chebyshev\": shape (10000, 256, 1, 1), type \"<f8\">\n"
     ]
    }
   ],
   "source": [
    "for info in o_h5.values():\n",
    "    print(info)\n"
   ]
  },
  {
   "cell_type": "code",
   "execution_count": 4,
   "id": "d285193c-e90d-4f94-854e-edf44e2c43b4",
   "metadata": {},
   "outputs": [],
   "source": [
    "get_mean = lambda x: np.mean(x, axis=0)\n",
    "get_var = lambda x: np.var(x, axis=0)\n",
    "assert get_mean(o_h5['chebyshev']).shape == (256, 1, 1)\n",
    "assert get_var(o_h5['chebyshev']).shape == (256, 1, 1)"
   ]
  },
  {
   "cell_type": "code",
   "execution_count": 6,
   "id": "8edc7faf-d874-4355-92f9-38da3a25b24a",
   "metadata": {},
   "outputs": [
    {
     "data": {
      "text/plain": [
       "(array([0.01290601, 0.01277061, 0.01279676, 0.01285391, 0.01293238,\n",
       "        0.0128108 , 0.01301079, 0.01291236, 0.01287914, 0.01284311,\n",
       "        0.01278402, 0.01291213, 0.01281261, 0.01279935, 0.01281451,\n",
       "        0.01293533, 0.01281456, 0.01278714, 0.01290883, 0.01286495]),\n",
       " array([ 8.09744970e-04,  1.12968322e-03,  1.18299568e-03, -5.42523915e-04,\n",
       "        -1.15423941e-03, -1.28145642e-03,  9.30704477e-04,  2.16470566e-03,\n",
       "         1.62538512e-03, -6.15140793e-04, -6.63854941e-04,  1.64986845e-04,\n",
       "        -1.33240003e-05, -1.55567772e-03,  2.04316642e-03, -2.17201249e-03,\n",
       "        -1.45888187e-03, -1.61839098e-03, -1.37873521e-03, -1.08686816e-04]))"
      ]
     },
     "execution_count": 6,
     "metadata": {},
     "output_type": "execute_result"
    }
   ],
   "source": [
    "# the input params\n",
    "np.array(o_h5['anderson'][0]).flatten()\n",
    "# 查看前10个系数第一个样本的值\n",
    "np.array(o_h5['chebyshev'][0,:10,0,0])\n",
    "# 查看第2个系数，前20个样本的值\n",
    "np.array(o_h5['chebyshev'][:20, 0, 0, 0]), np.array(o_h5['chebyshev'][:20, 1, 0, 0])"
   ]
  },
  {
   "cell_type": "code",
   "execution_count": 6,
   "id": "c6acf75d-13fa-4d78-b190-330af3de9582",
   "metadata": {},
   "outputs": [
    {
     "data": {
      "text/plain": [
       "(array([ 1.28805392e-02,  7.27999969e-06, -2.34766520e-02, -1.60489001e-05,\n",
       "         1.94837428e-02,  1.42695210e-05, -1.47596272e-02, -3.78465676e-06,\n",
       "         1.02519483e-02, -9.40793705e-06]),\n",
       " array([7.54050544e-09, 1.56241444e-06, 2.50586800e-07, 1.02891226e-05,\n",
       "        4.23022690e-06, 1.83612735e-05, 1.40065379e-05, 2.14487752e-05,\n",
       "        2.44378407e-05, 2.18723168e-05]))"
      ]
     },
     "execution_count": 6,
     "metadata": {},
     "output_type": "execute_result"
    }
   ],
   "source": [
    "get_mean(o_h5['chebyshev'])[:10].flatten(), get_var(o_h5['chebyshev'])[:10].flatten()"
   ]
  },
  {
   "cell_type": "code",
   "execution_count": 15,
   "id": "e0fc4763-3f55-45af-a64e-3fbd48ecea6d",
   "metadata": {},
   "outputs": [
    {
     "data": {
      "text/plain": [
       "(array([ 1.00164272,  0.00683562, -0.99503256, -0.00593011,  0.97702321,\n",
       "         0.00426259, -0.95495884, -0.00132035,  0.94074381, -0.00407169]),\n",
       " array([4.55992866e-05, 1.37749470e+00, 4.50153310e-04, 1.40479759e+00,\n",
       "        1.06372324e-02, 1.63844369e+00, 5.86339745e-02, 2.61054238e+00,\n",
       "        2.05775069e-01, 4.09690825e+00]))"
      ]
     },
     "execution_count": 15,
     "metadata": {},
     "output_type": "execute_result"
    }
   ],
   "source": [
    "c_train_file = 'datasets/chebyshev_10000.h5'\n",
    "c_train_h5 = h5py.File(c_train_file, 'r')\n",
    "get_mean(c_train_h5['chebyshev'])[:10].flatten(), get_var(c_train_h5['chebyshev'])[:10].flatten()"
   ]
  },
  {
   "cell_type": "code",
   "execution_count": 19,
   "id": "22f832be-5bd4-4339-837a-20cf541d26a9",
   "metadata": {},
   "outputs": [
    {
     "data": {
      "text/plain": [
       "array([0.01285941, 0.00106501, 0.02359385, 0.00270634, 0.01994194,\n",
       "       0.00334762, 0.01545577, 0.00286639, 0.0108977 , 0.00231057])"
      ]
     },
     "execution_count": 19,
     "metadata": {},
     "output_type": "execute_result"
    }
   ],
   "source": [
    "chebyshev_median='datasets/chebyshev_median.h5'\n",
    "c_h5 = h5py.File(chebyshev_median, 'r')\n",
    "c_h5['chebyshev_median'][:10].flatten()"
   ]
  },
  {
   "cell_type": "code",
   "execution_count": 20,
   "id": "7fee3164-9216-46a4-9c90-57b2a29daee2",
   "metadata": {},
   "outputs": [
    {
     "data": {
      "text/plain": [
       "6835.616275903513"
      ]
     },
     "execution_count": 20,
     "metadata": {},
     "output_type": "execute_result"
    }
   ],
   "source": [
    "7.27999969/0.00106501"
   ]
  },
  {
   "cell_type": "code",
   "execution_count": 4,
   "id": "d17e2875-0063-47fd-bbfe-b29eb66ba304",
   "metadata": {},
   "outputs": [
    {
     "data": {
      "text/plain": [
       "(array([ 1.58997351,  2.27941756, -0.05643762, -2.71328907, -0.98162041,\n",
       "         0.82658971,  0.85817836,  0.56812304]),\n",
       " array(0.99585183))"
      ]
     },
     "execution_count": 4,
     "metadata": {},
     "output_type": "execute_result"
    }
   ],
   "source": [
    "c_test_file = 'datasets/chebyshev_testing_1000.h5'\n",
    "c_test_h5 = h5py.File(c_test_file, 'r')\n",
    "np.array(c_test_h5['anderson'][0]).flatten(), np.array(c_test_h5['chebyshev'][0,0,0,0])"
   ]
  },
  {
   "cell_type": "code",
   "execution_count": 11,
   "id": "f5aba519-efbf-4697-954e-a0d010b74115",
   "metadata": {},
   "outputs": [
    {
     "data": {
      "text/plain": [
       "(4000, 256, 1, 1)"
      ]
     },
     "execution_count": 11,
     "metadata": {},
     "output_type": "execute_result"
    }
   ],
   "source": [
    "o_h5['chebyshev'].shape"
   ]
  },
  {
   "cell_type": "code",
   "execution_count": 12,
   "id": "707f2127-c723-4b71-aabd-4f5ba70eb482",
   "metadata": {},
   "outputs": [
    {
     "data": {
      "text/plain": [
       "(256, 1, 1)"
      ]
     },
     "execution_count": 12,
     "metadata": {},
     "output_type": "execute_result"
    }
   ],
   "source": [
    "c_np = np.array(o_h5['chebyshev'])\n",
    "np.median(np.abs(c_np), axis = 0).shape"
   ]
  },
  {
   "cell_type": "code",
   "execution_count": 23,
   "id": "866ae221-899e-4a50-ac2a-e2830789c8a4",
   "metadata": {},
   "outputs": [],
   "source": [
    "cheby_0 = np.median(np.abs(c_np[:, 0, 0, 0]), axis=0)"
   ]
  },
  {
   "cell_type": "code",
   "execution_count": 18,
   "id": "778795b9-990a-412c-8813-d0856612a875",
   "metadata": {},
   "outputs": [
    {
     "data": {
      "text/plain": [
       "array([[0.01285941]])"
      ]
     },
     "execution_count": 18,
     "metadata": {},
     "output_type": "execute_result"
    }
   ],
   "source": [
    "np.median(np.abs(c_np), axis = 0)[0]"
   ]
  },
  {
   "cell_type": "code",
   "execution_count": 19,
   "id": "da84ecdc-a793-4438-aaed-94a21b043fc8",
   "metadata": {},
   "outputs": [],
   "source": [
    "chebyshev_median='chebyshev_median.h5'\n",
    "c_h5 = h5py.File(chebyshev_median, 'w')\n",
    "c_h5.create_dataset(name='chebyshev_median', data=np.median(np.abs(c_np), axis = 0))\n",
    "c_h5.close()\n",
    "o_h5.close()"
   ]
  },
  {
   "cell_type": "markdown",
   "id": "34808a6c-36e2-4994-8b30-a3037935b656",
   "metadata": {},
   "source": [
    "# 使用median的数据集"
   ]
  },
  {
   "cell_type": "code",
   "execution_count": 12,
   "id": "74492f6f-aa30-4ca6-8810-7237d0aa7d33",
   "metadata": {},
   "outputs": [],
   "source": [
    "# 制作测试集\n",
    "if 0:\n",
    "    test_file = 'datasets/L6N255_testing_1000.h5'\n",
    "    test_h5 = h5py.File(test_file, 'r')\n",
    "    \n",
    "    chebyshev_median='datasets/chebyshev_median.h5'\n",
    "    c_h5 = h5py.File(chebyshev_median, 'r')\n",
    "    median_test = test_h5['chebyshev'][:] / c_h5['chebyshev_median'][:]\n",
    "    \n",
    "    save_name = 'datasets/chebyshev_testing_1000.h5'\n",
    "    save_h5 = h5py.File(save_name, 'w')\n",
    "    \n",
    "    save_h5.create_dataset(name='chebyshev', data=median_test, dtype='float64')\n",
    "    save_h5.create_dataset(name='anderson', data=test_h5['anderson'][:])\n",
    "    \n",
    "    save_h5.close()\n",
    "    test_h5.close()\n",
    "    c_h5.close()"
   ]
  },
  {
   "cell_type": "code",
   "execution_count": 5,
   "id": "9340e91a-7b2d-4da1-9f3b-3ec30140929b",
   "metadata": {},
   "outputs": [],
   "source": [
    "# 制作训练集\n",
    "train_file = 'datasets/L6N255_10000.h5'\n",
    "train_h5 = h5py.File(train_file, 'r')\n",
    "\n",
    "chebyshev_median='datasets/chebyshev_median.h5'\n",
    "c_h5 = h5py.File(chebyshev_median, 'r')\n",
    "median_train = train_h5['chebyshev'][:] / c_h5['chebyshev_median'][:]\n",
    "\n",
    "save_name = 'datasets/chebyshev_10000.h5'\n",
    "save_h5 = h5py.File(save_name, 'w')\n",
    "\n",
    "save_h5.create_dataset(name='chebyshev', data=median_train, dtype='float64')\n",
    "save_h5.create_dataset(name='anderson', data=train_h5['anderson'][:])\n",
    "\n",
    "save_h5.close()\n",
    "train_h5.close()\n",
    "c_h5.close()"
   ]
  },
  {
   "cell_type": "code",
   "execution_count": 6,
   "id": "479ce8ad-e8fe-4b12-98ab-2b4510d4e814",
   "metadata": {},
   "outputs": [],
   "source": [
    "# 制作训练集\n",
    "train_file = 'datasets/L6N255_4000.h5'\n",
    "train_h5 = h5py.File(train_file, 'r')\n",
    "\n",
    "chebyshev_median='datasets/chebyshev_median.h5'\n",
    "c_h5 = h5py.File(chebyshev_median, 'r')\n",
    "median_train = train_h5['chebyshev'][:] / c_h5['chebyshev_median'][:]\n",
    "\n",
    "save_name = 'datasets/chebyshev_4000.h5'\n",
    "save_h5 = h5py.File(save_name, 'w')\n",
    "\n",
    "save_h5.create_dataset(name='chebyshev', data=median_train, dtype='float64')\n",
    "save_h5.create_dataset(name='anderson', data=train_h5['anderson'][:])\n",
    "\n",
    "save_h5.close()\n",
    "train_h5.close()\n",
    "c_h5.close()"
   ]
  },
  {
   "cell_type": "code",
   "execution_count": 11,
   "id": "c685a8df-cf83-4cfd-8c66-eece029a1401",
   "metadata": {},
   "outputs": [
    {
     "name": "stdout",
     "output_type": "stream",
     "text": [
      "[0. 0. 0. 0. 0. 0. 0. 0. 0. 0.]\n",
      "[ 0.17959818 -1.00865215  1.21257928  0.28860864 -0.02286223  0.46278252\n",
      " -0.75816548  1.23354466  0.30433273  1.00197992]\n"
     ]
    }
   ],
   "source": [
    "# validate \n",
    "now_f = 'datasets/chebyshev_4000.h5'\n",
    "old_f = 'datasets/chebyshev_0_4000.h5'\n",
    "train_file = 'datasets/L6N255_4000.h5'\n",
    "train_h5 = h5py.File(train_file, 'r')\n",
    "\n",
    "now_h5 = h5py.File(now_f, 'r')\n",
    "old_h5 = h5py.File(old_f, 'r')\n",
    "print(now_h5['chebyshev'][:10, 0, 0, 0] - old_h5['chebyshev'][:10, 0, 0, 0])\n",
    "print(now_h5['chebyshev'][:10, 1, 0, 0] - train_h5['chebyshev'][:10, 1, 0, 0])\n",
    "import os\n",
    "os.remove(old_f)"
   ]
  },
  {
   "cell_type": "code",
   "execution_count": 40,
   "id": "604a03cb-1406-4d35-9bde-88473a792476",
   "metadata": {},
   "outputs": [
    {
     "data": {
      "text/plain": [
       "((1000, 256, 1, 1),\n",
       " array([ 0.99585183,  1.79472122, -1.01327828, -1.94266417,  1.06519988,\n",
       "         2.36347458, -1.15787729, -3.4030798 ,  1.3004036 ,  4.65702547]),\n",
       " array([ 0.01280607,  0.00191139, -0.02390714, -0.00525751,  0.02124216,\n",
       "         0.00791201, -0.01789589, -0.00975457,  0.01417141,  0.01076039]),\n",
       " array([0.01285941, 0.00106501, 0.02359385, 0.00270634, 0.01994194,\n",
       "        0.00334762, 0.01545577, 0.00286639, 0.0108977 , 0.00231057]))"
      ]
     },
     "execution_count": 40,
     "metadata": {},
     "output_type": "execute_result"
    }
   ],
   "source": [
    "\n",
    "test_file = 'datasets/L6N255_testing_1000.h5'\n",
    "test_h5 = h5py.File(test_file, 'r')\n",
    "\n",
    "\n",
    "median_test.shape, median_test[0,:10, 0, 0], test_h5['chebyshev'][0,:10, 0, 0],  c_h5['chebyshev_median'][:10].flatten()"
   ]
  },
  {
   "cell_type": "code",
   "execution_count": 41,
   "id": "d1fdff15-1ed6-4a5e-9d4c-97f0acc8f124",
   "metadata": {},
   "outputs": [
    {
     "data": {
      "text/plain": [
       "4.6521739130434785"
      ]
     },
     "execution_count": 41,
     "metadata": {},
     "output_type": "execute_result"
    }
   ],
   "source": [
    "0.0107/0.0023"
   ]
  },
  {
   "cell_type": "markdown",
   "id": "f8300400-28ca-4f1b-82d6-f79d3329e932",
   "metadata": {},
   "source": [
    "# 准备test 5 的数据集\n",
    "anderson： norm\n",
    " \n",
    "chebyshev： median"
   ]
  },
  {
   "cell_type": "code",
   "execution_count": 10,
   "id": "53eddada-ea71-4c07-926e-62b5b1ec0c8c",
   "metadata": {},
   "outputs": [],
   "source": [
    "# generate nom_meta\n",
    "if 1:\n",
    "    train_origin = 'datasets/L6N255_10000.h5'\n",
    "    \n",
    "    h5_origin = h5py.File(train_origin, 'r')\n",
    "    anderson = torch.Tensor(h5_origin['anderson'][:])\n",
    "    file_mean = 'datasets/10000_norm_meta.h5'\n",
    "    h5_mean = h5py.File(file_mean, 'w')\n",
    "    \n",
    "    mean = torch.mean(anderson, dim=0)\n",
    "    std = torch.std(anderson, dim=0)\n",
    "    h5_mean.create_dataset(name='mean',data=mean, dtype='float64')\n",
    "    h5_mean.create_dataset(name='std',data=std, dtype='float64')\n",
    "    h5_mean.keys()\n",
    "    h5_mean.close()"
   ]
  },
  {
   "cell_type": "code",
   "execution_count": 13,
   "id": "bfdd6bf2-78e9-47f4-a65b-5b53375fcbeb",
   "metadata": {},
   "outputs": [
    {
     "data": {
      "text/plain": [
       "(torch.Size([8, 1, 1]),\n",
       " tensor([ 4.9823,  0.0073, -0.0058,  0.0429,  0.0430,  0.7434,  0.7557,  0.7468]))"
      ]
     },
     "execution_count": 13,
     "metadata": {},
     "output_type": "execute_result"
    }
   ],
   "source": [
    "mean.shape, mean.flatten()"
   ]
  },
  {
   "cell_type": "code",
   "execution_count": 14,
   "id": "319314e4-5ea8-4160-9287-1ddcac00748c",
   "metadata": {},
   "outputs": [],
   "source": [
    "# read\n",
    "file_mean = 'datasets/10000_norm_meta.h5'\n",
    "h5_mean = h5py.File(file_mean, 'r')\n",
    "mean, std = h5_mean['mean'][:], h5_mean['std'][:]\n",
    "h5_mean.close()"
   ]
  },
  {
   "cell_type": "code",
   "execution_count": 15,
   "id": "b76a4c63-023b-4c28-bff5-cc48f0e2d142",
   "metadata": {},
   "outputs": [
    {
     "data": {
      "text/plain": [
       "((8, 1, 1),\n",
       " array([ 4.98231173,  0.00727328, -0.00577093,  0.04291348,  0.04299883,\n",
       "         0.74337214,  0.75566906,  0.74676955]))"
      ]
     },
     "execution_count": 15,
     "metadata": {},
     "output_type": "execute_result"
    }
   ],
   "source": [
    "mean.shape, mean.flatten()"
   ]
  },
  {
   "cell_type": "code",
   "execution_count": 16,
   "id": "09e01188-5eaa-4fb1-af80-c307bab27a04",
   "metadata": {},
   "outputs": [],
   "source": [
    "chebyshev_median='datasets/chebyshev_median.h5'\n",
    "c_h5 = h5py.File(chebyshev_median, 'r')"
   ]
  },
  {
   "cell_type": "code",
   "execution_count": 17,
   "id": "821add53-9473-4980-be46-2407c513a096",
   "metadata": {},
   "outputs": [],
   "source": [
    "# test5 需要的数据查看 \n",
    "train_origin = 'datasets/L6N255_10000.h5'\n",
    "file_train = 'datasets/norm_10000.h5'\n",
    "\n",
    "h5_origin = h5py.File(train_origin, 'r')\n",
    "anderson = torch.Tensor(h5_origin['anderson'][:])\n",
    "norm_anderson = transforms.Normalize(mean, std)(anderson)\n",
    "chebyshev = torch.Tensor(h5_origin['chebyshev'][:])\n",
    "median_chebyshev = chebyshev / c_h5['chebyshev_median'][:]\n",
    "\n",
    "h5_train = h5py.File(file_train, 'w')\n",
    "h5_train.create_dataset(name='anderson', data=norm_anderson,dtype='float64')\n",
    "h5_train.create_dataset(name='chebyshev', data=median_chebyshev, dtype='float64')\n",
    "h5_train.close()"
   ]
  },
  {
   "cell_type": "code",
   "execution_count": 23,
   "id": "2c51ee6f-46a3-4074-92ab-386705013c3e",
   "metadata": {},
   "outputs": [],
   "source": [
    "# test5 需要的数据查看 \n",
    "test_origin = 'datasets/L6N255_testing_1000.h5'\n",
    "file_test = 'datasets/norm_test_1000.h5'\n",
    "\n",
    "h5_origin = h5py.File(test_origin, 'r')\n",
    "anderson = torch.Tensor(h5_origin['anderson'][:])\n",
    "norm_anderson = transforms.Normalize(mean, std)(anderson)\n",
    "chebyshev = torch.Tensor(h5_origin['chebyshev'][:])\n",
    "median_chebyshev = chebyshev / c_h5['chebyshev_median'][:]\n",
    "\n",
    "h5_test = h5py.File(file_test, 'w')\n",
    "h5_test.create_dataset(name='anderson', data=norm_anderson,dtype='float64')\n",
    "h5_test.create_dataset(name='chebyshev', data=median_chebyshev, dtype='float64')\n",
    "h5_test.close()"
   ]
  },
  {
   "cell_type": "code",
   "execution_count": null,
   "id": "b0f90fb7-5bfa-4247-85ab-263685def1ec",
   "metadata": {},
   "outputs": [],
   "source": [
    "# 规范化是否合理\n",
    "plt.plot(norm_anderson[:10,0,0,0])\n",
    "plt.plot(anderson[:10,0,0,0])"
   ]
  },
  {
   "cell_type": "code",
   "execution_count": 29,
   "id": "56d76b78-3d39-497d-ac29-20c80b6bab09",
   "metadata": {},
   "outputs": [
    {
     "data": {
      "text/plain": [
       "(array([-1.17670524,  1.57700872, -0.01769103, -0.95797795, -0.35424122,\n",
       "         0.19169877,  0.23645437, -0.41081271]),\n",
       " array([ 0.99585184,  1.79472123, -1.01327824, -1.94266424,  1.06519986,\n",
       "         2.36347455, -1.15787728, -3.40307985,  1.30040356,  4.65702528]),\n",
       " array([ 1.58997351,  2.27941756, -0.05643762, -2.71328907, -0.98162041,\n",
       "         0.82658971,  0.85817836,  0.56812304]),\n",
       " array([ 0.01280607,  0.00191139, -0.02390714, -0.00525751,  0.02124216,\n",
       "         0.00791201, -0.01789589, -0.00975457,  0.01417141,  0.01076039]))"
      ]
     },
     "execution_count": 29,
     "metadata": {},
     "output_type": "execute_result"
    }
   ],
   "source": [
    "file_1 = 'datasets/norm_test_1000.h5'\n",
    "file_2 = 'datasets/L6N255_testing_1000.h5'\n",
    "h5_1= h5py.File(file_1, 'r')\n",
    "h5_2= h5py.File(file_2, 'r')\n",
    "h5_1['anderson'].shape, h5_1['chebyshev'].shape\n",
    "h5_1['anderson'][0,:,0,0], h5_1['chebyshev'][0,:10,0,0],h5_2['anderson'][0,:,0,0], h5_2['chebyshev'][0,:10,0,0]"
   ]
  },
  {
   "cell_type": "markdown",
   "id": "aca73fc0-6853-4b7a-9ab5-df4bd2e882b6",
   "metadata": {},
   "source": [
    "#validate the same as old loss."
   ]
  },
  {
   "cell_type": "code",
   "execution_count": null,
   "id": "3740dee0-ab7d-47f9-a4a7-d2ce6ce84f57",
   "metadata": {},
   "outputs": [],
   "source": [
    "if 0:\n",
    "    # modify loss save formate to upper formate\n",
    "    losses_file = ['nn_7bk/loss_1.h5', 'nn_14bk/loss_2.h5','nn_14bk/loss_3.h5','nn_14bk/loss_4.h5','nn_14bk/loss_5.h5']\n",
    "    new_files = ['nn_7/loss_1.h5', 'nn_14/loss_2.h5','nn_14/loss_3.h5','nn_14/loss_4.h5','nn_14/loss_5.h5']\n",
    "    for i in range(len(losses_file)):\n",
    "        old = h5py.File(losses_file[i], 'r')\n",
    "        new = h5py.File(new_files[i], 'w')\n",
    "        train_b = old['model_000']['log_dict']['train_loss_per_batch'][:]\n",
    "        train_e = old['model_000']['log_dict']['train_loss_per_epoch'][:]\n",
    "        validate_b = old['model_000']['log_dict']['validate_loss_per_batch'][:]\n",
    "        validate_e = old['model_000']['log_dict']['validate_loss_per_epoch'][:]\n",
    "        test_b = old['model_000']['test_log_dict']['test_loss_per_batch'][:]\n",
    "        test_e = old['model_000']['test_log_dict']['test_loss_per_epoch'][:]\n",
    "        \n",
    "        grp = new.create_group(name='model_000')\n",
    "        grp.create_dataset(name='train_loss_per_batch', data=train_b, dtype='float64')\n",
    "        grp.create_dataset(name='train_loss_per_epoch', data=train_e, dtype='float64')\n",
    "        grp.create_dataset(name='validate_loss_per_batch', data=validate_b, dtype='float64')\n",
    "        grp.create_dataset(name='validate_loss_per_epoch', data=validate_e, dtype='float64')\n",
    "        grp.create_dataset(name='test_loss_per_batch', data=test_b, dtype='float64')\n",
    "        grp.create_dataset(name='test_loss_per_epoch', data=test_e, dtype='float64')\n",
    "        old.close()\n",
    "        new.close()\n",
    "plot_loss_epoch('nn_14/loss_2.h5', title='new h5')\n"
   ]
  },
  {
   "cell_type": "markdown",
   "id": "43a7e940-6608-44aa-8f73-66a6b169b9f7",
   "metadata": {},
   "source": [
    "# 制作数据集\n",
    "通过之前的测试，anderson模型使用规范化后，训练误差基本没有变，但是通过后续实验发现，在预测chebyshev不同的系数时\n",
    "1. 需要不同的学习率初始值\n",
    "2. 训练loss差别很大，会不会是因为数据分布不好，可以通过batchnorm和输入规范化进行改善吗？\n",
    "那我们对输入不做处理，对输出做规范化处理，试一试效果怎么要，首先制作数据集"
   ]
  },
  {
   "cell_type": "code",
   "execution_count": 12,
   "id": "5219a17a-dc65-403d-9f19-4af6e278b9b8",
   "metadata": {},
   "outputs": [],
   "source": [
    "input_file = 'datasets/L6N255_10000.h5'\n",
    "# get mean and var in each chebyshev node.\n",
    "inputh5 = h5py.File(input_file, 'r')\n",
    "input_c = torch.Tensor(inputh5['chebyshev'][:])\n",
    "i_c_std , i_c_mean = torch.std_mean(input_c, dim=0)\n",
    "chebyshev_norm='datasets/chebyshev_norm_10000.h5'\n",
    "c_norm_meta = 'datasets/c_norm_meta.h5'\n",
    "meta_h5 = h5py.File(c_norm_meta, 'w')\n",
    "meta_h5.create_dataset(name='std', data=i_c_std)\n",
    "meta_h5.create_dataset(name='mean', data=i_c_mean)\n",
    "meta_h5.close()\n",
    "norm_c = transforms.Normalize(i_c_mean, i_c_std)(input_c)\n",
    "c_norm_h5 = h5py.File(chebyshev_norm, 'w')\n",
    "c_norm_h5.create_dataset(name='chebyshev', data=norm_c)\n",
    "c_norm_h5.create_dataset(name='anderson', data=inputh5['anderson'][:])\n",
    "c_norm_h5.close()"
   ]
  },
  {
   "cell_type": "code",
   "execution_count": 3,
   "id": "af52335d-d5da-4154-be02-634393cac5ea",
   "metadata": {},
   "outputs": [],
   "source": [
    "# 测试集\n",
    "\n",
    "c_norm_meta = 'datasets/c_norm_meta.h5'\n",
    "test_c = 'datasets/L6N255_testing_1000.h5'\n",
    "def gen_c_norm(file, meta_f, save_f):\n",
    "    h5 = h5py.File(file, 'r')\n",
    "    anderson = h5['anderson'][:]\n",
    "    chebyshev = torch.Tensor(h5['chebyshev'][:])\n",
    "    meta_h5 = h5py.File(meta_f, 'r')\n",
    "    std, mean = meta_h5['std'][:], meta_h5['mean'][:]\n",
    "    c_norm = transforms.Normalize(mean, std)(chebyshev)\n",
    "    save_f = h5py.File(save_f, 'w')\n",
    "    save_f.create_dataset(name = 'anderson', data = anderson)\n",
    "    save_f.create_dataset(name = 'chebyshev', data= c_norm)\n",
    "    save_f.close()\n",
    "    h5.close()\n",
    "    meta_h5.close()\n",
    "\n",
    "gen_c_norm(test_c, c_norm_meta, 'datasets/chebyshev_norm_testing_1000.h5')"
   ]
  },
  {
   "cell_type": "code",
   "execution_count": 31,
   "id": "a0b64fa8-0dbe-4482-b744-0b5bb9619b55",
   "metadata": {},
   "outputs": [
    {
     "data": {
      "text/plain": [
       "(torch.Size([10000, 256, 1, 1]), torch.Size([10000, 256, 1, 1]), (256, 1, 1))"
      ]
     },
     "execution_count": 31,
     "metadata": {},
     "output_type": "execute_result"
    }
   ],
   "source": [
    "norm_c.shape, input_c.shape, np.mean(np.array(input_c), axis=0).shape #, input_c[0, :10].flatten()\n"
   ]
  },
  {
   "cell_type": "code",
   "execution_count": 25,
   "id": "ae5fc20d-cda7-467b-87a3-cd1e2e7da814",
   "metadata": {},
   "outputs": [
    {
     "data": {
      "text/plain": [
       "(tensor([ 0.0008,  0.0011,  0.0012, -0.0005, -0.0012, -0.0013,  0.0009,  0.0022,\n",
       "          0.0016, -0.0006]),\n",
       " tensor([ 0.6420,  0.8979,  0.9406, -0.4398, -0.9292, -1.0310,  0.7387,  1.7259,\n",
       "          1.2945, -0.4979]))"
      ]
     },
     "execution_count": 25,
     "metadata": {},
     "output_type": "execute_result"
    },
    {
     "data": {
      "image/png": "[encoded data removed]",
      "text/plain": [
       "<Figure size 640x480 with 1 Axes>"
      ]
     },
     "metadata": {},
     "output_type": "display_data"
    }
   ],
   "source": [
    "# 通过规范化，让他们的数据符合均方根分布。是否会加快训练速度，超参数选择更加鲁棒。？\n",
    "plt.plot(np.arange(10), input_c[:10, 1, 0, 0], norm_c[:10, 1, 0, 0])\n",
    "input_c[:10, 1, 0, 0], norm_c[:10, 1, 0, 0]"
   ]
  },
  {
   "cell_type": "code",
   "execution_count": null,
   "id": "442d0769-7af9-47a2-a670-ea81ec7072d8",
   "metadata": {},
   "outputs": [],
   "source": []
  }
 ],
 "metadata": {
  "kernelspec": {
   "display_name": "Python 3 (ipykernel)",
   "language": "python",
   "name": "python3"
  },
  "language_info": {
   "codemirror_mode": {
    "name": "ipython",
    "version": 3
   },
   "file_extension": ".py",
   "mimetype": "text/x-python",
   "name": "python",
   "nbconvert_exporter": "python",
   "pygments_lexer": "ipython3",
   "version": "3.9.18"
  }
 },
 "nbformat": 4,
 "nbformat_minor": 5
}
